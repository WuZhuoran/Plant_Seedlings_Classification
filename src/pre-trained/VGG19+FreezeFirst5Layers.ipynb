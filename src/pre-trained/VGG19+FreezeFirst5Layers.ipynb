{
 "cells": [
  {
   "cell_type": "markdown",
   "metadata": {
    "_uuid": "735a0673b257fa7f8d8bbe5f86639f80a37868ee"
   },
   "source": [
    "## VGG19+Freeze first 5 layers\n",
    "#### Added validation set improved F1-score compared to reference\n",
    "#### Detailed running processes are avaibale at private Kaggle Kernel, an attached pdf screenshots show this notebook is runnable \n",
    "#### Reference: https://www.kaggle.com/atrisaxena/keras-plant-seedlings-vgg19-augmentation"
   ]
  },
  {
   "cell_type": "code",
   "execution_count": null,
   "metadata": {
    "_cell_guid": "b1076dfc-b9ad-4769-8c92-a6c4dae69d19",
    "_uuid": "8f2839f25d086af736a60e9eeb907d3b93b6e0e5"
   },
   "outputs": [],
   "source": [
    "import warnings\n",
    "warnings.filterwarnings('ignore')\n",
    "import numpy as np \n",
    "import pandas as pd \n",
    "import os\n",
    "print(os.listdir(\"../input\"))\n",
    "from IPython.core.interactiveshell import InteractiveShell\n",
    "InteractiveShell.ast_node_interactivity = \"all\"\n",
    "\n",
    "import cv2\n",
    "from keras.preprocessing.image import ImageDataGenerator\n",
    "from PIL import Image\n",
    "import matplotlib.pyplot as plt\n",
    "from mpl_toolkits.axes_grid1 import ImageGrid\n",
    "import numpy as np\n",
    "from keras.utils import np_utils\n",
    "from keras import applications\n",
    "from keras.preprocessing.image import ImageDataGenerator\n",
    "from keras import optimizers\n",
    "from keras.models import Sequential, Model \n",
    "from keras.layers import Dropout, Flatten, Dense, GlobalAveragePooling2D\n",
    "from keras.callbacks import ModelCheckpoint, LearningRateScheduler, TensorBoard, EarlyStopping"
   ]
  },
  {
   "cell_type": "code",
   "execution_count": null,
   "metadata": {
    "_uuid": "3326f1388ce01fa6d1989afc682202b726247609"
   },
   "outputs": [],
   "source": [
    "CATEGORIES = ['Black-grass', 'Charlock', 'Cleavers', 'Common Chickweed', 'Common wheat', 'Fat Hen', 'Loose Silky-bent',\n",
    "              'Maize', 'Scentless Mayweed', 'Shepherds Purse', 'Small-flowered Cranesbill', 'Sugar beet']\n",
    "NUM_CATEGORIES = len(CATEGORIES)"
   ]
  },
  {
   "cell_type": "code",
   "execution_count": null,
   "metadata": {
    "_uuid": "8660ec6c99788ab52f55ca8dd2a5a8724c085fc0"
   },
   "outputs": [],
   "source": [
    "SEED = 123\n",
    "data_dir = '../input/withvalid'\n",
    "train_dir = os.path.join(data_dir, 'train_valid/train_valid/train')\n",
    "valid_dir = os.path.join(data_dir, 'train_valid/train_valid/valid/valid')\n",
    "test_dir = os.path.join(data_dir, 'test/test')"
   ]
  },
  {
   "cell_type": "code",
   "execution_count": null,
   "metadata": {
    "_uuid": "812183d40b80919fb5d2b0a09a2cb8cba15bc1d6",
    "scrolled": true
   },
   "outputs": [],
   "source": [
    "# Number of training images for each Category\n",
    "for category in CATEGORIES:\n",
    "    print('{} {} images'.format(category, len(os.listdir(os.path.join(train_dir, category)))))"
   ]
  },
  {
   "cell_type": "code",
   "execution_count": null,
   "metadata": {
    "_uuid": "5e0413c8b74058492c1b1bb0e1c9a8cc604579cc"
   },
   "outputs": [],
   "source": [
    "for category in CATEGORIES:\n",
    "    print('{} {} images'.format(category, len(os.listdir(os.path.join(valid_dir, category)))))"
   ]
  },
  {
   "cell_type": "code",
   "execution_count": null,
   "metadata": {
    "_uuid": "b6763d312e10f497b0a6c434508cca9a1dfd3621"
   },
   "outputs": [],
   "source": [
    "train = []\n",
    "for category_id, category in enumerate(CATEGORIES):\n",
    "    for file in os.listdir(os.path.join(train_dir, category)):\n",
    "        train.append(['train/{}/{}'.format(category, file), category_id, category])\n",
    "train = pd.DataFrame(train, columns=['file', 'category_id', 'category'])\n",
    "train.head(2)\n",
    "train.shape"
   ]
  },
  {
   "cell_type": "code",
   "execution_count": null,
   "metadata": {
    "_uuid": "afc63f9b2b98b4ff1eaf8c345d4c3ea9b4d1c820"
   },
   "outputs": [],
   "source": [
    "valid = []\n",
    "for cat_id, cat in enumerate(CATEGORIES):\n",
    "    for f in os.listdir(os.path.join(valid_dir, cat)):\n",
    "        valid.append(['valid/{}/{}'.format(cat, file), cat_id, cat])\n",
    "valid = pd.DataFrame(valid, columns=['file', 'category_id', 'category'])\n",
    "valid.head(5)"
   ]
  },
  {
   "cell_type": "code",
   "execution_count": null,
   "metadata": {
    "_uuid": "2e51cc8c2972498dc59770ad38789648d911e3ee"
   },
   "outputs": [],
   "source": [
    "test = []\n",
    "for file in os.listdir(test_dir):\n",
    "    test.append(['test/{}'.format(file), file])\n",
    "test = pd.DataFrame(test, columns=['filepath', 'file'])\n",
    "test.head(2)\n",
    "test.shape"
   ]
  },
  {
   "cell_type": "code",
   "execution_count": null,
   "metadata": {
    "_uuid": "dff15c1e9c995eac5ff5ec7fb4e2d9e82c551b8b"
   },
   "outputs": [],
   "source": [
    "fig = plt.figure(1, figsize=(NUM_CATEGORIES, NUM_CATEGORIES))\n",
    "grid = ImageGrid(fig, 111, nrows_ncols=(NUM_CATEGORIES, NUM_CATEGORIES), axes_pad=0.05)\n",
    "i = 0\n",
    "for category_id, category in enumerate(CATEGORIES):\n",
    "    for filepath in train[train['category'] == category]['file'].values[:NUM_CATEGORIES]:\n",
    "        ax = grid[i]\n",
    "        img = Image.open(\"../input/withvalid/train_valid/train_valid/\"+filepath)\n",
    "        img = img.resize((240,240))\n",
    "        ax.imshow(img)\n",
    "        ax.axis('off')\n",
    "        if i % NUM_CATEGORIES == NUM_CATEGORIES - 1:\n",
    "            ax.text(250, 112, filepath.split('/')[1], verticalalignment='center')\n",
    "        i += 1\n",
    "plt.show();"
   ]
  },
  {
   "cell_type": "markdown",
   "metadata": {
    "_uuid": "152a64f1027292a5fe224f7640322b2eee730015"
   },
   "source": [
    "## Model Structure"
   ]
  },
  {
   "cell_type": "code",
   "execution_count": null,
   "metadata": {
    "_uuid": "c69f442273fa79483146c1152396614c18b35dee",
    "scrolled": true
   },
   "outputs": [],
   "source": [
    "model = applications.VGG19(weights = \"imagenet\", include_top=False, input_shape = (240, 240, 3))\n",
    "for layer in model.layers[:5]:\n",
    "    layer.trainable = False\n",
    "\n",
    "x = model.output\n",
    "x = Flatten()(x)\n",
    "x = Dense(1024, activation=\"relu\")(x)\n",
    "x = Dropout(0.5)(x)\n",
    "x = Dense(1024, activation=\"relu\")(x)\n",
    "x = Dropout(0.5)(x)\n",
    "predictions = Dense(12, activation=\"softmax\")(x) \n",
    "\n",
    "model_final = Model(input = model.input, output = predictions)\n",
    "\n",
    "model_final.compile(loss = \"categorical_crossentropy\", optimizer = optimizers.SGD(lr=0.0001, momentum=0.9), metrics=[\"accuracy\"])\n",
    "model_final.summary()"
   ]
  },
  {
   "cell_type": "code",
   "execution_count": null,
   "metadata": {
    "_uuid": "fe1f5492d35f66ea15bb4afbdb47201f8dc6be13"
   },
   "outputs": [],
   "source": [
    "gen = ImageDataGenerator(\n",
    "            rotation_range=360.,\n",
    "            width_shift_range=0.3,\n",
    "            height_shift_range=0.3,\n",
    "            zoom_range=0.3,\n",
    "            horizontal_flip=True,\n",
    "            vertical_flip=True)"
   ]
  },
  {
   "cell_type": "code",
   "execution_count": null,
   "metadata": {
    "_uuid": "00940fef5caf50923526641e52d10a8a2dd21bb4"
   },
   "outputs": [],
   "source": [
    "train_data_dir = \"../input/withvalid/train_valid/train_valid/train\"\n",
    "train_generator = gen.flow_from_directory(\n",
    "                        train_data_dir,\n",
    "                        target_size = (240, 240),\n",
    "                        batch_size = 16, \n",
    "                        class_mode = \"categorical\")"
   ]
  },
  {
   "cell_type": "code",
   "execution_count": null,
   "metadata": {
    "_uuid": "88a61611b84ae4becd4f79a3efd78213a54e693b"
   },
   "outputs": [],
   "source": [
    "valid_data_dir = \"../input/withvalid/train_valid/train_valid/valid/valid\"\n",
    "valid_generator = gen.flow_from_directory(\n",
    "                        valid_data_dir,\n",
    "                        target_size = (240, 240),\n",
    "                        batch_size = 16, \n",
    "                        class_mode = \"categorical\")"
   ]
  },
  {
   "cell_type": "code",
   "execution_count": null,
   "metadata": {
    "_uuid": "7c88ef71b87222e42507af04a109677613a08529"
   },
   "outputs": [],
   "source": [
    "checkpoint = ModelCheckpoint(\"vgg16_withvalid.h5\", monitor='loss', verbose=1, save_best_only=True, save_weights_only=False, mode='auto', period=1)\n",
    "early = EarlyStopping(monitor='loss', min_delta=0, patience=10, verbose=1, mode='auto')"
   ]
  },
  {
   "cell_type": "code",
   "execution_count": null,
   "metadata": {
    "_uuid": "23257aaa09dbbc2d21c2bac200a9aa6a40daec7a",
    "scrolled": false
   },
   "outputs": [],
   "source": [
    "batchsize = 16\n",
    "STEP_SIZE_TRAIN=train_generator.n/batchsize\n",
    "STEP_SIZE_VALID=valid_generator.n/batchsize\n",
    "\n",
    "model_final.fit_generator(\n",
    "                    generator=train_generator,\n",
    "                    validation_data=valid_generator,\n",
    "                    steps_per_epoch=STEP_SIZE_TRAIN,\n",
    "                    validation_steps=STEP_SIZE_VALID,\n",
    "                    epochs = 50,\n",
    "                    shuffle= True,\n",
    "                    callbacks = [checkpoint, early])"
   ]
  },
  {
   "cell_type": "markdown",
   "metadata": {
    "_uuid": "3d6fda46ac6fe15d5744f4373ae328b2cafbcfc8"
   },
   "source": [
    "## Prediction"
   ]
  },
  {
   "cell_type": "code",
   "execution_count": null,
   "metadata": {
    "_uuid": "42ec1709f17c7702add9357fbae6e9a396349829"
   },
   "outputs": [],
   "source": [
    "prediction = []\n",
    "for f in test['file']:\n",
    "    img = cv2.imread(os.path.join(test_dir,f))\n",
    "    img = cv2.resize(img,(240,240))\n",
    "    img = np.asarray(img)\n",
    "    img = img.reshape(1,240,240,3)\n",
    "    pred = model_final.predict(img)\n",
    "    prediction.append(classes.get(pred.argmax(axis=-1)[0])) #Invert Mapping helps to map Label"
   ]
  },
  {
   "cell_type": "code",
   "execution_count": null,
   "metadata": {
    "_uuid": "81f1f5b1faabd4b4a3d81beaaff84ecda595263f"
   },
   "outputs": [],
   "source": [
    "test = test.drop(columns =['filepath'])\n",
    "sample_submission = pd.read_csv('../input/plant-seedlings-classification/sample_submission.csv')\n",
    "test.to_csv('submission.csv', index=False)\n",
    "test.head(5)"
   ]
  },
  {
   "cell_type": "code",
   "execution_count": null,
   "metadata": {
    "_uuid": "1cfa63d5328b6b10171738a77391bc0446be8048",
    "scrolled": false
   },
   "outputs": [],
   "source": [
    "pred = pd.DataFrame({'species': prediction})\n",
    "test =test.join(pred)\n",
    "test.head()"
   ]
  },
  {
   "cell_type": "markdown",
   "metadata": {
    "_uuid": "87a5d1e61b28c36e1f5ff659799bc8d6d2c0de48"
   },
   "source": [
    "### Final submission File"
   ]
  },
  {
   "cell_type": "code",
   "execution_count": null,
   "metadata": {
    "_uuid": "8ac1053202f8ffa448d967df57477193942a8dcb"
   },
   "outputs": [],
   "source": [
    "test.to_csv('submission.csv', index=False)"
   ]
  }
 ],
 "metadata": {
  "kernelspec": {
   "display_name": "Python 3",
   "language": "python",
   "name": "python3"
  },
  "language_info": {
   "codemirror_mode": {
    "name": "ipython",
    "version": 2
   },
   "file_extension": ".py",
   "mimetype": "text/x-python",
   "name": "python",
   "nbconvert_exporter": "python",
   "pygments_lexer": "ipython2",
   "version": "2.7.15"
  }
 },
 "nbformat": 4,
 "nbformat_minor": 1
}
