{
 "cells": [
  {
   "cell_type": "markdown",
   "metadata": {
    "_uuid": "735a0673b257fa7f8d8bbe5f86639f80a37868ee"
   },
   "source": [
    "## VGG19+Xception\n",
    "#### Detailed running processes are avaibale at private Kaggle Kernel, an attached pdf screenshots show this notebook is runnable \n",
    "#### Reference: https://www.kaggle.com/atrisaxena/keras-plant-seedlings-vgg19-augmentation"
   ]
  },
  {
   "cell_type": "code",
   "execution_count": null,
   "metadata": {
    "_cell_guid": "b1076dfc-b9ad-4769-8c92-a6c4dae69d19",
    "_uuid": "8f2839f25d086af736a60e9eeb907d3b93b6e0e5"
   },
   "outputs": [],
   "source": [
    "import warnings\n",
    "warnings.filterwarnings('ignore')\n",
    "import numpy as np # linear algebra\n",
    "import pandas as pd # data processing, CSV file I/O (e.g. pd.read_csv)\n",
    "import os\n",
    "print(os.listdir(\"../input\"))\n",
    "from IPython.core.interactiveshell import InteractiveShell\n",
    "InteractiveShell.ast_node_interactivity = \"all\"\n",
    "\n",
    "import cv2\n",
    "from keras.preprocessing.image import ImageDataGenerator\n",
    "from PIL import Image\n",
    "import matplotlib.pyplot as plt\n",
    "from mpl_toolkits.axes_grid1 import ImageGrid\n",
    "import numpy as np\n",
    "from keras.utils import np_utils\n",
    "from keras import applications\n",
    "from keras.preprocessing.image import ImageDataGenerator\n",
    "from keras import optimizers\n",
    "from keras.models import Sequential, Model \n",
    "from keras.layers import Dropout, Flatten, Dense, GlobalAveragePooling2D\n",
    "from keras.callbacks import ModelCheckpoint, LearningRateScheduler, TensorBoard, EarlyStopping"
   ]
  },
  {
   "cell_type": "code",
   "execution_count": null,
   "metadata": {
    "_uuid": "3326f1388ce01fa6d1989afc682202b726247609"
   },
   "outputs": [],
   "source": [
    "CATEGORIES = ['Black-grass', 'Charlock', 'Cleavers', 'Common Chickweed', 'Common wheat', 'Fat Hen', 'Loose Silky-bent',\n",
    "              'Maize', 'Scentless Mayweed', 'Shepherds Purse', 'Small-flowered Cranesbill', 'Sugar beet']\n",
    "NUM_CATEGORIES = len(CATEGORIES)"
   ]
  },
  {
   "cell_type": "code",
   "execution_count": null,
   "metadata": {
    "_uuid": "8660ec6c99788ab52f55ca8dd2a5a8724c085fc0"
   },
   "outputs": [],
   "source": [
    "SEED = 123\n",
    "data_dir = '../input/'\n",
    "train_dir = os.path.join(data_dir, 'train')\n",
    "test_dir = os.path.join(data_dir, 'test')\n",
    "sample_submission = pd.read_csv(os.path.join(data_dir, 'sample_submission.csv'))"
   ]
  },
  {
   "cell_type": "markdown",
   "metadata": {
    "_uuid": "7099ad30d67386be7980bc2e414bb6a60ff4f0ef"
   },
   "source": [
    "### Number of training images for each Category"
   ]
  },
  {
   "cell_type": "code",
   "execution_count": null,
   "metadata": {
    "_uuid": "812183d40b80919fb5d2b0a09a2cb8cba15bc1d6",
    "scrolled": true
   },
   "outputs": [],
   "source": [
    "for category in CATEGORIES:\n",
    "    print('{} {} images'.format(category, len(os.listdir(os.path.join(train_dir, category)))))"
   ]
  },
  {
   "cell_type": "code",
   "execution_count": null,
   "metadata": {
    "_uuid": "b6763d312e10f497b0a6c434508cca9a1dfd3621"
   },
   "outputs": [],
   "source": [
    "train = []\n",
    "for category_id, category in enumerate(CATEGORIES):\n",
    "    for file in os.listdir(os.path.join(train_dir, category)):\n",
    "        train.append(['train/{}/{}'.format(category, file), category_id, category])\n",
    "train = pd.DataFrame(train, columns=['file', 'category_id', 'category'])\n",
    "train.head(2)\n",
    "train.shape"
   ]
  },
  {
   "cell_type": "code",
   "execution_count": null,
   "metadata": {
    "_uuid": "2e51cc8c2972498dc59770ad38789648d911e3ee"
   },
   "outputs": [],
   "source": [
    "test = []\n",
    "for file in os.listdir(test_dir):\n",
    "    test.append(['test/{}'.format(file), file])\n",
    "test = pd.DataFrame(test, columns=['filepath', 'file'])\n",
    "test.head(2)\n",
    "test.shape"
   ]
  },
  {
   "cell_type": "markdown",
   "metadata": {
    "_uuid": "152a64f1027292a5fe224f7640322b2eee730015"
   },
   "source": [
    "## Model Structure"
   ]
  },
  {
   "cell_type": "code",
   "execution_count": null,
   "metadata": {
    "_uuid": "c69f442273fa79483146c1152396614c18b35dee",
    "scrolled": true
   },
   "outputs": [],
   "source": [
    "from keras.layers.convolutional import Conv2D\n",
    "from keras.layers.convolutional import MaxPooling2D\n",
    "from keras.layers import BatchNormalization\n",
    "scale=299\n",
    "\n",
    "model = applications.VGG19(weights = \"imagenet\", include_top=False, input_shape = (scale, scale, 3))\n",
    "add_model=applications.Xception(weights = \"imagenet\", include_top=False, input_shape = (scale, scale, 3))\n",
    "\n",
    "model = Sequential()\n",
    "model.add(add_model)\n",
    "model.add(Conv2D(20, kernel_size=(3, 3), activation='relu',input_shape=(scale, scale, 3)))\n",
    "model.add(BatchNormalization(axis=3))\n",
    "model.add(Conv2D(20, kernel_size=(3, 3), activation='relu'))\n",
    "model.add(BatchNormalization(axis=3))\n",
    "model.add(MaxPooling2D(pool_size=(3, 3), strides=(2, 2)))\n",
    "model.add(Dropout(0.2))\n",
    "\n",
    "\n",
    "model.add(Flatten())\n",
    "model.add(Dense(256, activation='relu'))\n",
    "model.add(Dropout(0.5))\n",
    "model.add(Dense(64, activation = 'relu'))\n",
    "model.add(Dropout(0.5))\n",
    "model.add(Dense(12, activation='softmax'))\n",
    "\n",
    "\n",
    "#compling and show model\n",
    "model.compile(loss = \"categorical_crossentropy\", optimizer = optimizers.SGD(lr=0.0001, momentum=0.9), metrics=[\"accuracy\"])\n",
    "model.summary()"
   ]
  },
  {
   "cell_type": "markdown",
   "metadata": {
    "_uuid": "3d9be455e5ae87f7ca50d4914e8f83f2aba72de4"
   },
   "source": [
    "## Data Augmentation"
   ]
  },
  {
   "cell_type": "code",
   "execution_count": null,
   "metadata": {
    "_uuid": "fe1f5492d35f66ea15bb4afbdb47201f8dc6be13"
   },
   "outputs": [],
   "source": [
    "gen = ImageDataGenerator(\n",
    "            rotation_range=360.,\n",
    "            width_shift_range=0.3,\n",
    "            height_shift_range=0.3,\n",
    "            zoom_range=0.3,\n",
    "            horizontal_flip=True,\n",
    "            vertical_flip=True)"
   ]
  },
  {
   "cell_type": "code",
   "execution_count": null,
   "metadata": {
    "_uuid": "00940fef5caf50923526641e52d10a8a2dd21bb4"
   },
   "outputs": [],
   "source": [
    "train_data_dir = \"../input/train\"\n",
    "train_generator = gen.flow_from_directory(\n",
    "                        train_data_dir,\n",
    "                        target_size = (scale, scale),\n",
    "                        batch_size = 16, \n",
    "                        class_mode = \"categorical\")"
   ]
  },
  {
   "cell_type": "code",
   "execution_count": null,
   "metadata": {
    "_uuid": "7c88ef71b87222e42507af04a109677613a08529"
   },
   "outputs": [],
   "source": [
    "checkpoint = ModelCheckpoint(\"Vgg19FreezeXception.h5\", monitor='loss', verbose=1, save_best_only=True, save_weights_only=False, mode='auto', period=1)\n",
    "early = EarlyStopping(monitor='loss', min_delta=0, patience=10, verbose=1, mode='auto')"
   ]
  },
  {
   "cell_type": "code",
   "execution_count": null,
   "metadata": {
    "_uuid": "23257aaa09dbbc2d21c2bac200a9aa6a40daec7a",
    "scrolled": false
   },
   "outputs": [],
   "source": [
    "STEP_SIZE_TRAIN=train_generator.n/16\n",
    "model.fit_generator(\n",
    "                    train_generator,\n",
    "                    epochs = 50,\n",
    "                    shuffle= True,\n",
    "                    steps_per_epoch=STEP_SIZE_TRAIN,\n",
    "                    callbacks = [checkpoint, early])"
   ]
  },
  {
   "cell_type": "markdown",
   "metadata": {
    "_uuid": "5c9f509ca511efffffa08620a98c1c3f86bb966e"
   },
   "source": [
    "## Prediction of model "
   ]
  },
  {
   "cell_type": "code",
   "execution_count": null,
   "metadata": {
    "_uuid": "42ec1709f17c7702add9357fbae6e9a396349829"
   },
   "outputs": [],
   "source": [
    "prediction = []\n",
    "for filepath in test['filepath']:\n",
    "    img = cv2.imread(os.path.join(data_dir,filepath))\n",
    "    img = cv2.resize(img,(scale, scale))\n",
    "    img = np.asarray(img)\n",
    "    img = img.reshape(1,scale, scale,3)\n",
    "    pred = model.predict(img)\n",
    "    prediction.append(classes.get(pred.argmax(axis=-1)[0])) #Invert Mapping helps to map Label"
   ]
  },
  {
   "cell_type": "code",
   "execution_count": null,
   "metadata": {
    "_uuid": "1cfa63d5328b6b10171738a77391bc0446be8048",
    "scrolled": false
   },
   "outputs": [],
   "source": [
    "test = test.drop(columns =['filepath'])\n",
    "pred = pd.DataFrame({'species': prediction})\n",
    "test =test.join(pred)\n",
    "test.head()"
   ]
  },
  {
   "cell_type": "markdown",
   "metadata": {
    "_uuid": "87a5d1e61b28c36e1f5ff659799bc8d6d2c0de48"
   },
   "source": [
    "### Final submission File"
   ]
  },
  {
   "cell_type": "code",
   "execution_count": null,
   "metadata": {
    "_uuid": "8ac1053202f8ffa448d967df57477193942a8dcb"
   },
   "outputs": [],
   "source": [
    "test.to_csv('submission.csv', index=False)"
   ]
  },
  {
   "cell_type": "code",
   "execution_count": null,
   "metadata": {
    "_uuid": "c2a63c6dceb2fdc19ec688eceb9957a68e4bdaaf"
   },
   "outputs": [],
   "source": []
  }
 ],
 "metadata": {
  "kernelspec": {
   "display_name": "Python 3",
   "language": "python",
   "name": "python3"
  },
  "language_info": {
   "codemirror_mode": {
    "name": "ipython",
    "version": 2
   },
   "file_extension": ".py",
   "mimetype": "text/x-python",
   "name": "python",
   "nbconvert_exporter": "python",
   "pygments_lexer": "ipython2",
   "version": "2.7.15"
  }
 },
 "nbformat": 4,
 "nbformat_minor": 1
}
